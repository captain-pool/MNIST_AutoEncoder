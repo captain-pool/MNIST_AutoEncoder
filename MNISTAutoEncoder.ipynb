{
  "nbformat": 4,
  "nbformat_minor": 0,
  "metadata": {
    "colab": {
      "name": "MNISTAutoEncoder.ipynb",
      "version": "0.3.2",
      "provenance": []
    },
    "kernelspec": {
      "name": "python3",
      "display_name": "Python 3"
    },
    "accelerator": "GPU"
  },
  "cells": [
    {
      "metadata": {
        "id": "XHEcSCpXhmOh",
        "colab_type": "text"
      },
      "cell_type": "markdown",
      "source": [
        "### Loading Dataset and importing library"
      ]
    },
    {
      "metadata": {
        "id": "Z5947z5ghWLP",
        "colab_type": "code",
        "colab": {}
      },
      "cell_type": "code",
      "source": [
        "import tensorflow as tf\n",
        "import numpy as np\n",
        "(X_train,Y_train),(X_test,Y_test) = tf.keras.datasets.mnist.load_data()\n",
        "X_train = X_train.astype(\"float32\")/255.0"
      ],
      "execution_count": 0,
      "outputs": []
    },
    {
      "metadata": {
        "id": "8LMjty35ujgI",
        "colab_type": "code",
        "colab": {}
      },
      "cell_type": "code",
      "source": [
        "X_test = X_test.astype(\"float32\")/255.0"
      ],
      "execution_count": 0,
      "outputs": []
    },
    {
      "metadata": {
        "id": "Tpc2_226nR3I",
        "colab_type": "code",
        "colab": {}
      },
      "cell_type": "code",
      "source": [
        "epoch = 3\n",
        "train_steps = 10000\n",
        "batch_size = 32\n",
        "learning_rate = 0.01\n",
        "vector_size = 32\n",
        "print_interval = 1000"
      ],
      "execution_count": 0,
      "outputs": []
    },
    {
      "metadata": {
        "id": "Dq4-GI7GiL3v",
        "colab_type": "code",
        "colab": {}
      },
      "cell_type": "code",
      "source": [
        "def weights(shape):\n",
        "  return tf.Variable(tf.random_normal(shape))\n",
        "def biases(shape):\n",
        "  return tf.Variable(tf.random_normal([shape]))\n",
        "def dense(input_,out):\n",
        "  w = weights([int(input_.shape[-1]),out])\n",
        "  b = biases(out)\n",
        "  # Input Times Weight, Add a Bias, Activate!\n",
        "  return tf.nn.sigmoid(tf.matmul(input_,w)+b)"
      ],
      "execution_count": 0,
      "outputs": []
    },
    {
      "metadata": {
        "id": "_R-poO3ijjlS",
        "colab_type": "code",
        "colab": {}
      },
      "cell_type": "code",
      "source": [
        "def build_model(x,vector_size):\n",
        "  h = dense(x,256)\n",
        "  vct = dense(h,vector_size)\n",
        "  h = dense(vct,256)\n",
        "  h = dense(h,28*28*1)\n",
        "  return h,vct\n",
        "x = tf.placeholder(tf.float32,[None,28*28*1])\n",
        "output,vct = build_model(x,vector_size)\n",
        "loss = tf.reduce_mean(tf.pow(x - output,2))\n",
        "optimizer = tf.train.RMSPropOptimizer(learning_rate = learning_rate).minimize(loss)"
      ],
      "execution_count": 0,
      "outputs": []
    },
    {
      "metadata": {
        "id": "24RCKIFApTp6",
        "colab_type": "code",
        "colab": {}
      },
      "cell_type": "code",
      "source": [
        "#sess.close()"
      ],
      "execution_count": 0,
      "outputs": []
    },
    {
      "metadata": {
        "id": "01Aj5WuZl0zL",
        "colab_type": "code",
        "colab": {
          "base_uri": "https://localhost:8080/",
          "height": 470
        },
        "collapsed": true,
        "outputId": "109bd41d-3c0e-40df-bce8-3f89bea92040"
      },
      "cell_type": "code",
      "source": [
        "with tf.device(\"/gpu:0\"):\n",
        "  sess = tf.Session()\n",
        "  sess.run(tf.global_variables_initializer())\n",
        "  len_ = len(X_train)\n",
        "  for i in range(epoch):\n",
        "    for j in range(train_steps):\n",
        "      items = np.random.randint(0,len_,batch_size)\n",
        "      _,l = sess.run([optimizer,loss],feed_dict={x:X_train[items].reshape(-1,28*28*1)})\n",
        "      if not j%print_interval and j:\n",
        "        print(\"EPOCH: %d Step: %d Loss: %f\"%(i,j,l))\n",
        "        #pass\n",
        "      #print(l)\n",
        "  #    break"
      ],
      "execution_count": 25,
      "outputs": [
        {
          "output_type": "stream",
          "text": [
            "EPOCH: 0 Step: 1000 Loss: 0.139214\n",
            "EPOCH: 0 Step: 2000 Loss: 0.088544\n",
            "EPOCH: 0 Step: 3000 Loss: 0.082643\n",
            "EPOCH: 0 Step: 4000 Loss: 0.072782\n",
            "EPOCH: 0 Step: 5000 Loss: 0.070039\n",
            "EPOCH: 0 Step: 6000 Loss: 0.067858\n",
            "EPOCH: 0 Step: 7000 Loss: 0.065149\n",
            "EPOCH: 0 Step: 8000 Loss: 0.063290\n",
            "EPOCH: 0 Step: 9000 Loss: 0.063418\n",
            "EPOCH: 1 Step: 1000 Loss: 0.061258\n",
            "EPOCH: 1 Step: 2000 Loss: 0.054222\n",
            "EPOCH: 1 Step: 3000 Loss: 0.051948\n",
            "EPOCH: 1 Step: 4000 Loss: 0.043873\n",
            "EPOCH: 1 Step: 5000 Loss: 0.044612\n",
            "EPOCH: 1 Step: 6000 Loss: 0.044351\n",
            "EPOCH: 1 Step: 7000 Loss: 0.039956\n",
            "EPOCH: 1 Step: 8000 Loss: 0.037443\n",
            "EPOCH: 1 Step: 9000 Loss: 0.033966\n",
            "EPOCH: 2 Step: 1000 Loss: 0.037110\n",
            "EPOCH: 2 Step: 2000 Loss: 0.032699\n",
            "EPOCH: 2 Step: 3000 Loss: 0.032825\n",
            "EPOCH: 2 Step: 4000 Loss: 0.032073\n",
            "EPOCH: 2 Step: 5000 Loss: 0.032010\n",
            "EPOCH: 2 Step: 6000 Loss: 0.032540\n",
            "EPOCH: 2 Step: 7000 Loss: 0.029813\n",
            "EPOCH: 2 Step: 8000 Loss: 0.035080\n",
            "EPOCH: 2 Step: 9000 Loss: 0.031956\n"
          ],
          "name": "stdout"
        }
      ]
    },
    {
      "metadata": {
        "id": "-J7TyYFupvdb",
        "colab_type": "code",
        "colab": {
          "base_uri": "https://localhost:8080/",
          "height": 347
        },
        "outputId": "5c1c82e6-5d66-4b41-d19d-7168309f53a8"
      },
      "cell_type": "code",
      "source": [
        "import matplotlib.pyplot as plt\n",
        "plt.imshow(X_test[0])\n",
        "plt.axis(\"off\")\n",
        "plt.show()"
      ],
      "execution_count": 26,
      "outputs": [
        {
          "output_type": "display_data",
          "data": {
            "image/png": "[encoded data removed]",
            "text/plain": [
              "<matplotlib.figure.Figure at 0x7f5e82d6d518>"
            ]
          },
          "metadata": {
            "tags": []
          }
        }
      ]
    },
    {
      "metadata": {
        "id": "tNBSlDAJygXG",
        "colab_type": "code",
        "colab": {
          "base_uri": "https://localhost:8080/",
          "height": 498
        },
        "outputId": "702bb1e3-0d15-4e5d-98ca-a8b640d22186"
      },
      "cell_type": "code",
      "source": [
        "encoded = sess.run(vct,feed_dict = {x:X_test[0].reshape(1,28*28*1)})\n",
        "o = sess.run(output,feed_dict={vct:encoded,x:X_test[0].reshape(1,28*28*1)})\n",
        "print(encoded.shape)\n",
        "print(o.shape)\n",
        "o = o.reshape(28,28)*255\n",
        "print(encoded)\n",
        "plt.imshow(o)\n",
        "plt.axis('off')\n",
        "plt.show()"
      ],
      "execution_count": 32,
      "outputs": [
        {
          "output_type": "stream",
          "text": [
            "(1, 32)\n",
            "(1, 784)\n",
            "[[9.4979473e-15 9.9999988e-01 8.0465353e-01 4.1192635e-03 1.1231283e-02\n",
            "  1.0000000e+00 1.0000000e+00 2.3763040e-09 2.3989128e-03 1.0000000e+00\n",
            "  1.4185037e-01 3.2187391e-14 3.2788346e-16 3.2017612e-13 1.0000000e+00\n",
            "  6.2193062e-10 9.9999940e-01 5.5855978e-01 1.0000000e+00 7.3248094e-17\n",
            "  7.1903332e-09 3.0577513e-11 1.0000000e+00 1.6096340e-02 1.7529541e-01\n",
            "  1.0000000e+00 4.6780116e-08 1.0000000e+00 2.5341762e-07 9.8699039e-01\n",
            "  1.0000000e+00 1.0000000e+00]]\n"
          ],
          "name": "stdout"
        },
        {
          "output_type": "display_data",
          "data": {
            "image/png": "[encoded data removed]",
            "text/plain": [
              "<matplotlib.figure.Figure at 0x7f5e8217df98>"
            ]
          },
          "metadata": {
            "tags": []
          }
        }
      ]
    },
    {
      "metadata": {
        "id": "Y8RzdCdJ30pF",
        "colab_type": "code",
        "colab": {}
      },
      "cell_type": "code",
      "source": [
        "print(o.shape,)"
      ],
      "execution_count": 0,
      "outputs": []
    }
  ]
}